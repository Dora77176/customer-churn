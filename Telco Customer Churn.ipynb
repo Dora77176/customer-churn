{
 "cells": [
  {
   "cell_type": "markdown",
   "id": "49aef405-7e10-4995-8332-dfd5b440c179",
   "metadata": {},
   "source": [
    "# Telco Customer Churn "
   ]
  },
  {
   "cell_type": "markdown",
   "id": "91c00e72-4095-481f-b74b-d4e9081b4719",
   "metadata": {},
   "source": [
    "# I. Aim of this project "
   ]
  },
  {
   "cell_type": "markdown",
   "id": "f097625b-0be7-4d2e-ba34-ad5ef314ad3b",
   "metadata": {},
   "source": [
    "The goal of this project is to predict whether a customer is likely to churn based on their personal characteristics and service usage history.\n",
    "By applying supervised classification techniques, the model helps identify at-risk customers so that proactive retention strategies can be implemented.\n",
    "\n"
   ]
  },
  {
   "cell_type": "markdown",
   "id": "1f3b4636-0d06-4e3f-85a3-bfd92098268a",
   "metadata": {},
   "source": [
    "# II. Exploratory Data Analysis "
   ]
  },
  {
   "cell_type": "markdown",
   "id": "736f8585-ab41-4059-838c-ffcbb5d96ffd",
   "metadata": {},
   "source": [
    "In this section, we load the Telco Customer Churn dataset and perform an initial exploration.\n",
    "We inspect the data structure, types of variables, and get a first look at the information\n",
    "available to predict customer churn. This step helps us understand the dataset and plan\n",
    "the necessary preprocessing.\n",
    "\n"
   ]
  },
  {
   "cell_type": "code",
   "execution_count": 3,
   "id": "ad662c01-a1f4-493f-bb09-e04a4e329c66",
   "metadata": {},
   "outputs": [
    {
     "data": {
      "text/html": [
       "<div>\n",
       "<style scoped>\n",
       "    .dataframe tbody tr th:only-of-type {\n",
       "        vertical-align: middle;\n",
       "    }\n",
       "\n",
       "    .dataframe tbody tr th {\n",
       "        vertical-align: top;\n",
       "    }\n",
       "\n",
       "    .dataframe thead th {\n",
       "        text-align: right;\n",
       "    }\n",
       "</style>\n",
       "<table border=\"1\" class=\"dataframe\">\n",
       "  <thead>\n",
       "    <tr style=\"text-align: right;\">\n",
       "      <th></th>\n",
       "      <th>customerID</th>\n",
       "      <th>gender</th>\n",
       "      <th>SeniorCitizen</th>\n",
       "      <th>Partner</th>\n",
       "      <th>Dependents</th>\n",
       "      <th>tenure</th>\n",
       "      <th>PhoneService</th>\n",
       "      <th>MultipleLines</th>\n",
       "      <th>InternetService</th>\n",
       "      <th>OnlineSecurity</th>\n",
       "      <th>...</th>\n",
       "      <th>DeviceProtection</th>\n",
       "      <th>TechSupport</th>\n",
       "      <th>StreamingTV</th>\n",
       "      <th>StreamingMovies</th>\n",
       "      <th>Contract</th>\n",
       "      <th>PaperlessBilling</th>\n",
       "      <th>PaymentMethod</th>\n",
       "      <th>MonthlyCharges</th>\n",
       "      <th>TotalCharges</th>\n",
       "      <th>Churn</th>\n",
       "    </tr>\n",
       "  </thead>\n",
       "  <tbody>\n",
       "    <tr>\n",
       "      <th>0</th>\n",
       "      <td>7590-VHVEG</td>\n",
       "      <td>Female</td>\n",
       "      <td>0</td>\n",
       "      <td>Yes</td>\n",
       "      <td>No</td>\n",
       "      <td>1</td>\n",
       "      <td>No</td>\n",
       "      <td>No phone service</td>\n",
       "      <td>DSL</td>\n",
       "      <td>No</td>\n",
       "      <td>...</td>\n",
       "      <td>No</td>\n",
       "      <td>No</td>\n",
       "      <td>No</td>\n",
       "      <td>No</td>\n",
       "      <td>Month-to-month</td>\n",
       "      <td>Yes</td>\n",
       "      <td>Electronic check</td>\n",
       "      <td>29.85</td>\n",
       "      <td>29.85</td>\n",
       "      <td>No</td>\n",
       "    </tr>\n",
       "    <tr>\n",
       "      <th>1</th>\n",
       "      <td>5575-GNVDE</td>\n",
       "      <td>Male</td>\n",
       "      <td>0</td>\n",
       "      <td>No</td>\n",
       "      <td>No</td>\n",
       "      <td>34</td>\n",
       "      <td>Yes</td>\n",
       "      <td>No</td>\n",
       "      <td>DSL</td>\n",
       "      <td>Yes</td>\n",
       "      <td>...</td>\n",
       "      <td>Yes</td>\n",
       "      <td>No</td>\n",
       "      <td>No</td>\n",
       "      <td>No</td>\n",
       "      <td>One year</td>\n",
       "      <td>No</td>\n",
       "      <td>Mailed check</td>\n",
       "      <td>56.95</td>\n",
       "      <td>1889.5</td>\n",
       "      <td>No</td>\n",
       "    </tr>\n",
       "    <tr>\n",
       "      <th>2</th>\n",
       "      <td>3668-QPYBK</td>\n",
       "      <td>Male</td>\n",
       "      <td>0</td>\n",
       "      <td>No</td>\n",
       "      <td>No</td>\n",
       "      <td>2</td>\n",
       "      <td>Yes</td>\n",
       "      <td>No</td>\n",
       "      <td>DSL</td>\n",
       "      <td>Yes</td>\n",
       "      <td>...</td>\n",
       "      <td>No</td>\n",
       "      <td>No</td>\n",
       "      <td>No</td>\n",
       "      <td>No</td>\n",
       "      <td>Month-to-month</td>\n",
       "      <td>Yes</td>\n",
       "      <td>Mailed check</td>\n",
       "      <td>53.85</td>\n",
       "      <td>108.15</td>\n",
       "      <td>Yes</td>\n",
       "    </tr>\n",
       "    <tr>\n",
       "      <th>3</th>\n",
       "      <td>7795-CFOCW</td>\n",
       "      <td>Male</td>\n",
       "      <td>0</td>\n",
       "      <td>No</td>\n",
       "      <td>No</td>\n",
       "      <td>45</td>\n",
       "      <td>No</td>\n",
       "      <td>No phone service</td>\n",
       "      <td>DSL</td>\n",
       "      <td>Yes</td>\n",
       "      <td>...</td>\n",
       "      <td>Yes</td>\n",
       "      <td>Yes</td>\n",
       "      <td>No</td>\n",
       "      <td>No</td>\n",
       "      <td>One year</td>\n",
       "      <td>No</td>\n",
       "      <td>Bank transfer (automatic)</td>\n",
       "      <td>42.30</td>\n",
       "      <td>1840.75</td>\n",
       "      <td>No</td>\n",
       "    </tr>\n",
       "    <tr>\n",
       "      <th>4</th>\n",
       "      <td>9237-HQITU</td>\n",
       "      <td>Female</td>\n",
       "      <td>0</td>\n",
       "      <td>No</td>\n",
       "      <td>No</td>\n",
       "      <td>2</td>\n",
       "      <td>Yes</td>\n",
       "      <td>No</td>\n",
       "      <td>Fiber optic</td>\n",
       "      <td>No</td>\n",
       "      <td>...</td>\n",
       "      <td>No</td>\n",
       "      <td>No</td>\n",
       "      <td>No</td>\n",
       "      <td>No</td>\n",
       "      <td>Month-to-month</td>\n",
       "      <td>Yes</td>\n",
       "      <td>Electronic check</td>\n",
       "      <td>70.70</td>\n",
       "      <td>151.65</td>\n",
       "      <td>Yes</td>\n",
       "    </tr>\n",
       "  </tbody>\n",
       "</table>\n",
       "<p>5 rows × 21 columns</p>\n",
       "</div>"
      ],
      "text/plain": [
       "   customerID  gender  SeniorCitizen Partner Dependents  tenure PhoneService  \\\n",
       "0  7590-VHVEG  Female              0     Yes         No       1           No   \n",
       "1  5575-GNVDE    Male              0      No         No      34          Yes   \n",
       "2  3668-QPYBK    Male              0      No         No       2          Yes   \n",
       "3  7795-CFOCW    Male              0      No         No      45           No   \n",
       "4  9237-HQITU  Female              0      No         No       2          Yes   \n",
       "\n",
       "      MultipleLines InternetService OnlineSecurity  ... DeviceProtection  \\\n",
       "0  No phone service             DSL             No  ...               No   \n",
       "1                No             DSL            Yes  ...              Yes   \n",
       "2                No             DSL            Yes  ...               No   \n",
       "3  No phone service             DSL            Yes  ...              Yes   \n",
       "4                No     Fiber optic             No  ...               No   \n",
       "\n",
       "  TechSupport StreamingTV StreamingMovies        Contract PaperlessBilling  \\\n",
       "0          No          No              No  Month-to-month              Yes   \n",
       "1          No          No              No        One year               No   \n",
       "2          No          No              No  Month-to-month              Yes   \n",
       "3         Yes          No              No        One year               No   \n",
       "4          No          No              No  Month-to-month              Yes   \n",
       "\n",
       "               PaymentMethod MonthlyCharges  TotalCharges Churn  \n",
       "0           Electronic check          29.85         29.85    No  \n",
       "1               Mailed check          56.95        1889.5    No  \n",
       "2               Mailed check          53.85        108.15   Yes  \n",
       "3  Bank transfer (automatic)          42.30       1840.75    No  \n",
       "4           Electronic check          70.70        151.65   Yes  \n",
       "\n",
       "[5 rows x 21 columns]"
      ]
     },
     "execution_count": 3,
     "metadata": {},
     "output_type": "execute_result"
    }
   ],
   "source": [
    "# Basic configuration\n",
    "import pandas as pd\n",
    "import numpy as np\n",
    "import warnings \n",
    "\n",
    "# Eliminating the warnings messages\n",
    "warnings.filterwarnings(\"ignore\")\n",
    "\n",
    "\n",
    "file_path = 'C:/Users/pt.makoundou/OneDrive - CRITEO/Documents/Personal ML Projects/Telco-Customer-Churn.csv'\n",
    "churn = pd.read_csv(file_path)\n",
    "churn.head()\n",
    "\n"
   ]
  },
  {
   "cell_type": "code",
   "execution_count": 4,
   "id": "dfac72ba-b55b-42dc-b367-c9c5a439d91d",
   "metadata": {},
   "outputs": [
    {
     "name": "stdout",
     "output_type": "stream",
     "text": [
      "<class 'pandas.core.frame.DataFrame'>\n",
      "RangeIndex: 7043 entries, 0 to 7042\n",
      "Data columns (total 21 columns):\n",
      " #   Column            Non-Null Count  Dtype  \n",
      "---  ------            --------------  -----  \n",
      " 0   customerID        7043 non-null   object \n",
      " 1   gender            7043 non-null   object \n",
      " 2   SeniorCitizen     7043 non-null   int64  \n",
      " 3   Partner           7043 non-null   object \n",
      " 4   Dependents        7043 non-null   object \n",
      " 5   tenure            7043 non-null   int64  \n",
      " 6   PhoneService      7043 non-null   object \n",
      " 7   MultipleLines     7043 non-null   object \n",
      " 8   InternetService   7043 non-null   object \n",
      " 9   OnlineSecurity    7043 non-null   object \n",
      " 10  OnlineBackup      7043 non-null   object \n",
      " 11  DeviceProtection  7043 non-null   object \n",
      " 12  TechSupport       7043 non-null   object \n",
      " 13  StreamingTV       7043 non-null   object \n",
      " 14  StreamingMovies   7043 non-null   object \n",
      " 15  Contract          7043 non-null   object \n",
      " 16  PaperlessBilling  7043 non-null   object \n",
      " 17  PaymentMethod     7043 non-null   object \n",
      " 18  MonthlyCharges    7043 non-null   float64\n",
      " 19  TotalCharges      7043 non-null   object \n",
      " 20  Churn             7043 non-null   object \n",
      "dtypes: float64(1), int64(2), object(18)\n",
      "memory usage: 1.1+ MB\n"
     ]
    },
    {
     "data": {
      "text/html": [
       "<div>\n",
       "<style scoped>\n",
       "    .dataframe tbody tr th:only-of-type {\n",
       "        vertical-align: middle;\n",
       "    }\n",
       "\n",
       "    .dataframe tbody tr th {\n",
       "        vertical-align: top;\n",
       "    }\n",
       "\n",
       "    .dataframe thead th {\n",
       "        text-align: right;\n",
       "    }\n",
       "</style>\n",
       "<table border=\"1\" class=\"dataframe\">\n",
       "  <thead>\n",
       "    <tr style=\"text-align: right;\">\n",
       "      <th></th>\n",
       "      <th>SeniorCitizen</th>\n",
       "      <th>tenure</th>\n",
       "      <th>MonthlyCharges</th>\n",
       "    </tr>\n",
       "  </thead>\n",
       "  <tbody>\n",
       "    <tr>\n",
       "      <th>count</th>\n",
       "      <td>7043.000000</td>\n",
       "      <td>7043.000000</td>\n",
       "      <td>7043.000000</td>\n",
       "    </tr>\n",
       "    <tr>\n",
       "      <th>mean</th>\n",
       "      <td>0.162147</td>\n",
       "      <td>32.371149</td>\n",
       "      <td>64.761692</td>\n",
       "    </tr>\n",
       "    <tr>\n",
       "      <th>std</th>\n",
       "      <td>0.368612</td>\n",
       "      <td>24.559481</td>\n",
       "      <td>30.090047</td>\n",
       "    </tr>\n",
       "    <tr>\n",
       "      <th>min</th>\n",
       "      <td>0.000000</td>\n",
       "      <td>0.000000</td>\n",
       "      <td>18.250000</td>\n",
       "    </tr>\n",
       "    <tr>\n",
       "      <th>25%</th>\n",
       "      <td>0.000000</td>\n",
       "      <td>9.000000</td>\n",
       "      <td>35.500000</td>\n",
       "    </tr>\n",
       "    <tr>\n",
       "      <th>50%</th>\n",
       "      <td>0.000000</td>\n",
       "      <td>29.000000</td>\n",
       "      <td>70.350000</td>\n",
       "    </tr>\n",
       "    <tr>\n",
       "      <th>75%</th>\n",
       "      <td>0.000000</td>\n",
       "      <td>55.000000</td>\n",
       "      <td>89.850000</td>\n",
       "    </tr>\n",
       "    <tr>\n",
       "      <th>max</th>\n",
       "      <td>1.000000</td>\n",
       "      <td>72.000000</td>\n",
       "      <td>118.750000</td>\n",
       "    </tr>\n",
       "  </tbody>\n",
       "</table>\n",
       "</div>"
      ],
      "text/plain": [
       "       SeniorCitizen       tenure  MonthlyCharges\n",
       "count    7043.000000  7043.000000     7043.000000\n",
       "mean        0.162147    32.371149       64.761692\n",
       "std         0.368612    24.559481       30.090047\n",
       "min         0.000000     0.000000       18.250000\n",
       "25%         0.000000     9.000000       35.500000\n",
       "50%         0.000000    29.000000       70.350000\n",
       "75%         0.000000    55.000000       89.850000\n",
       "max         1.000000    72.000000      118.750000"
      ]
     },
     "execution_count": 4,
     "metadata": {},
     "output_type": "execute_result"
    }
   ],
   "source": [
    "churn.info()\n",
    "churn.describe()\n"
   ]
  },
  {
   "cell_type": "markdown",
   "id": "b09b1c0d-20e8-4975-9338-9e18fb4a5eee",
   "metadata": {},
   "source": [
    "We use `churn.info()` to get a summary of the dataset, including the number of non-null values\n",
    "and data types for each feature. This helps identify missing values and understand the data structure.\n",
    "\n",
    "Then, `churn.describe()` provides basic statistical summaries for numerical variables,\n",
    "such as mean, standard deviation, min and max values, which gives insight into data distribution.\n"
   ]
  },
  {
   "cell_type": "code",
   "execution_count": 5,
   "id": "5403f402-9e0a-4780-b744-596ee77c225c",
   "metadata": {},
   "outputs": [
    {
     "data": {
      "text/plain": [
       "<Axes: xlabel='Churn', ylabel='count'>"
      ]
     },
     "execution_count": 5,
     "metadata": {},
     "output_type": "execute_result"
    },
    {
     "data": {
      "image/png": "[encoded data removed]",
      "text/plain": [
       "<Figure size 640x480 with 1 Axes>"
      ]
     },
     "metadata": {},
     "output_type": "display_data"
    }
   ],
   "source": [
    "import seaborn as sns\n",
    "import matplotlib.pyplot as plt\n",
    "\n",
    "sns.countplot(x='Churn', data=churn)\n",
    "\n"
   ]
  },
  {
   "cell_type": "markdown",
   "id": "7d1fde4c-51de-45c9-8f2c-fcd3565e54f6",
   "metadata": {},
   "source": [
    "We visualize the class distribution of the target variable `Churn` to check for class imbalance. This plot shows how many customers have churned versus those who have stayed. "
   ]
  },
  {
   "cell_type": "code",
   "execution_count": 6,
   "id": "6b7fc922-f04e-44a6-ae67-c11d464bc2a2",
   "metadata": {},
   "outputs": [
    {
     "data": {
      "text/plain": [
       "Churn\n",
       "No     0.73463\n",
       "Yes    0.26537\n",
       "Name: proportion, dtype: float64"
      ]
     },
     "execution_count": 6,
     "metadata": {},
     "output_type": "execute_result"
    }
   ],
   "source": [
    "churn['Churn'].value_counts (normalize=True)"
   ]
  },
  {
   "cell_type": "markdown",
   "id": "65654dfa-c72b-418f-b61b-b7d1402cd22c",
   "metadata": {},
   "source": [
    "From the distribution, approximately 26.5% of customers have churned, while 73.5% have not. This indicates a class imbalance that could bias the model towards predicting the majority class ('No'). To address this, we will apply oversampling techniques like SMOTE during the modeling phase to help the classifier better learn patterns from the minority class.\n"
   ]
  },
  {
   "cell_type": "code",
   "execution_count": 7,
   "id": "481870d6-0178-448b-b82a-cffc61be702e",
   "metadata": {},
   "outputs": [
    {
     "data": {
      "text/plain": [
       "<Axes: xlabel='Churn', ylabel='MonthlyCharges'>"
      ]
     },
     "execution_count": 7,
     "metadata": {},
     "output_type": "execute_result"
    },
    {
     "data": {
      "image/png": "[encoded data removed]",
      "text/plain": [
       "<Figure size 640x480 with 1 Axes>"
      ]
     },
     "metadata": {},
     "output_type": "display_data"
    }
   ],
   "source": [
    "sns.boxplot(x='Churn', y='MonthlyCharges', data=churn)"
   ]
  },
  {
   "cell_type": "markdown",
   "id": "b245336a-e05f-4164-aea5-010bdb82a69f",
   "metadata": {},
   "source": [
    "Customers who churn generally have higher monthly charges compared to those who stay. This suggests that high-paying customers might be more sensitive to perceived value or service quality, making them more likely to leave if dissatisfied.\n"
   ]
  },
  {
   "cell_type": "markdown",
   "id": "3a63ad21-a8e5-41fe-9acf-7689d75a671c",
   "metadata": {},
   "source": [
    "# III. Cleaning the data "
   ]
  },
  {
   "cell_type": "code",
   "execution_count": 8,
   "id": "364361fa-6b52-410c-a42d-b8402c05a8b0",
   "metadata": {},
   "outputs": [],
   "source": [
    "# Convert TotalCharges\n",
    "churn['TotalCharges'] = pd.to_numeric(churn ['TotalCharges'], errors='coerce')\n",
    "\n",
    "# Delete missing values \n",
    "churn = churn.dropna()\n",
    "\n",
    "# Encoding the data so that we can train the model \n",
    "churn_encoded = pd.get_dummies(churn.drop('customerID', axis=1), drop_first=True)\n"
   ]
  },
  {
   "cell_type": "markdown",
   "id": "08a964e5-f81e-4c35-b66b-2b0ceb1805da",
   "metadata": {},
   "source": [
    "- The `TotalCharges` column was converted to numeric format. Any non-convertible values were turned into NaN.\n",
    "- These missing values were then dropped from the dataset to avoid issues during training.\n",
    "- The dataset was encoded using one-hot encoding to convert categorical variables into numerical format. We dropped the first level of each categorical variable to avoid multicollinearity.\n"
   ]
  },
  {
   "cell_type": "markdown",
   "id": "7ba64ec1-7cec-4ee0-bc42-f3c8c5b8f89e",
   "metadata": {},
   "source": [
    "# IV. Model"
   ]
  },
  {
   "cell_type": "code",
   "execution_count": 9,
   "id": "d37d27ef-2579-470d-baef-1e39b8e394db",
   "metadata": {},
   "outputs": [
    {
     "name": "stdout",
     "output_type": "stream",
     "text": [
      "Requirement already satisfied: scikit-learn in c:\\miniforge\\pt.makoundou\\appdata\\local\\miniforge3\\lib\\site-packages (1.6.1)\n",
      "Requirement already satisfied: numpy>=1.19.5 in c:\\miniforge\\pt.makoundou\\appdata\\local\\miniforge3\\lib\\site-packages (from scikit-learn) (2.2.6)\n",
      "Requirement already satisfied: scipy>=1.6.0 in c:\\miniforge\\pt.makoundou\\appdata\\local\\miniforge3\\lib\\site-packages (from scikit-learn) (1.15.3)\n",
      "Requirement already satisfied: joblib>=1.2.0 in c:\\miniforge\\pt.makoundou\\appdata\\local\\miniforge3\\lib\\site-packages (from scikit-learn) (1.5.1)\n",
      "Requirement already satisfied: threadpoolctl>=3.1.0 in c:\\miniforge\\pt.makoundou\\appdata\\local\\miniforge3\\lib\\site-packages (from scikit-learn) (3.6.0)\n"
     ]
    }
   ],
   "source": [
    "!pip install scikit-learn\n"
   ]
  },
  {
   "cell_type": "code",
   "execution_count": 10,
   "id": "b7b88a3e-744e-43f2-a453-12a6ab34412a",
   "metadata": {},
   "outputs": [
    {
     "name": "stdout",
     "output_type": "stream",
     "text": [
      "[[1379  170]\n",
      " [ 293  268]]\n"
     ]
    }
   ],
   "source": [
    "from sklearn.model_selection import train_test_split\n",
    "from sklearn.ensemble import RandomForestClassifier\n",
    "from sklearn.metrics import classification_report, confusion_matrix\n",
    "\n",
    "X = churn_encoded.drop('Churn_Yes', axis=1)\n",
    "y = churn_encoded['Churn_Yes']\n",
    "\n",
    "X_train, X_test, y_train, y_test = train_test_split(X, y, test_size=0.3, random_state=42)\n",
    "\n",
    "model = RandomForestClassifier()\n",
    "model.fit(X_train, y_train)\n",
    "y_pred = model.predict(X_test)\n",
    "\n",
    "print(confusion_matrix(y_test, y_pred))\n",
    "\n"
   ]
  },
  {
   "cell_type": "markdown",
   "id": "6299519c-91ea-4558-a59c-8ffb7b0d66d4",
   "metadata": {},
   "source": [
    "True Negatives (TN): 1383 — correctly predicted non-churners\n",
    "\n",
    "True Positives (TP): 268 — correctly predicted churners\n",
    "\n",
    "False Positives (FP): 166 — predicted churn when the customer actually stayed\n",
    "\n",
    "False Negatives (FN): 293 — predicted stay when the customer actually churned\n",
    "\n",
    "This indicates that the model is currently missing a significant number of actual churners (high number of false negatives), resulting in a relatively low recall."
   ]
  },
  {
   "cell_type": "code",
   "execution_count": 11,
   "id": "65d9091f-7949-4dbd-b9ee-a1816dd01777",
   "metadata": {},
   "outputs": [
    {
     "name": "stdout",
     "output_type": "stream",
     "text": [
      "              precision    recall  f1-score   support\n",
      "\n",
      "       False       0.82      0.89      0.86      1549\n",
      "        True       0.61      0.48      0.54       561\n",
      "\n",
      "    accuracy                           0.78      2110\n",
      "   macro avg       0.72      0.68      0.70      2110\n",
      "weighted avg       0.77      0.78      0.77      2110\n",
      "\n"
     ]
    }
   ],
   "source": [
    "print(classification_report(y_test, y_pred))"
   ]
  },
  {
   "cell_type": "markdown",
   "id": "5c2fe659-a57f-4cfa-8081-2e60110a900f",
   "metadata": {},
   "source": [
    "Precision (Churn = True) = 0.62 : Of all customers predicted as churners, 62% are actually churners.\n",
    "\n",
    "Recall (Churn = True) = 0.48 : The model only identifies 48% of the actual churners.\n",
    "\n",
    "F1-score = 0.54 : Harmonic mean of precision and recall, indicating a low balance between the two.\n",
    "\n",
    "The model performs well at detecting non-churners but misses a significant portion of actual churners, which is critical from a business perspective.\n",
    "This highlights the need to improve recall using techniques like SMOTE.\n",
    "\n"
   ]
  },
  {
   "cell_type": "markdown",
   "id": "683f52d0-150c-480c-8a82-60564ead30fd",
   "metadata": {},
   "source": [
    "# V. Optimization "
   ]
  },
  {
   "cell_type": "markdown",
   "id": "9b376ace-5e26-4065-a22e-87b512374799",
   "metadata": {},
   "source": [
    "The dataset shows a significant class imbalance: most customers did not churn, while a smaller proportion did. This imbalance can bias the model toward predicting the majority class, reducing its ability to detect churners.\n",
    "To address this, we apply SMOTE (Synthetic Minority Over-sampling Technique). SMOTE generates synthetic examples of the minority class by interpolating between existing samples. This helps balance the dataset and allows the model to better learn the patterns associated with churned customers."
   ]
  },
  {
   "cell_type": "code",
   "execution_count": 12,
   "id": "329a0642-d8e0-4d5d-a52a-1e5e6626ef94",
   "metadata": {},
   "outputs": [
    {
     "name": "stdout",
     "output_type": "stream",
     "text": [
      "Requirement already satisfied: imbalanced-learn in c:\\miniforge\\pt.makoundou\\appdata\\local\\miniforge3\\lib\\site-packages (0.13.0)\n",
      "Requirement already satisfied: numpy<3,>=1.24.3 in c:\\miniforge\\pt.makoundou\\appdata\\local\\miniforge3\\lib\\site-packages (from imbalanced-learn) (2.2.6)\n",
      "Requirement already satisfied: scipy<2,>=1.10.1 in c:\\miniforge\\pt.makoundou\\appdata\\local\\miniforge3\\lib\\site-packages (from imbalanced-learn) (1.15.3)\n",
      "Requirement already satisfied: scikit-learn<2,>=1.3.2 in c:\\miniforge\\pt.makoundou\\appdata\\local\\miniforge3\\lib\\site-packages (from imbalanced-learn) (1.6.1)\n",
      "Requirement already satisfied: sklearn-compat<1,>=0.1 in c:\\miniforge\\pt.makoundou\\appdata\\local\\miniforge3\\lib\\site-packages (from imbalanced-learn) (0.1.3)\n",
      "Requirement already satisfied: joblib<2,>=1.1.1 in c:\\miniforge\\pt.makoundou\\appdata\\local\\miniforge3\\lib\\site-packages (from imbalanced-learn) (1.5.1)\n",
      "Requirement already satisfied: threadpoolctl<4,>=2.0.0 in c:\\miniforge\\pt.makoundou\\appdata\\local\\miniforge3\\lib\\site-packages (from imbalanced-learn) (3.6.0)\n"
     ]
    }
   ],
   "source": [
    "!pip install imbalanced-learn\n"
   ]
  },
  {
   "cell_type": "code",
   "execution_count": 15,
   "id": "8725a178-fddb-40df-a6f6-a147ae51f804",
   "metadata": {},
   "outputs": [
    {
     "name": "stdout",
     "output_type": "stream",
     "text": [
      "Before SMOTE: Counter({0: 4130, 1: 1495})\n",
      "After SMOTE: Counter({0: 4130, 1: 4130})\n",
      "              precision    recall  f1-score   support\n",
      "\n",
      "           0       0.85      0.84      0.85      1033\n",
      "           1       0.58      0.59      0.58       374\n",
      "\n",
      "    accuracy                           0.78      1407\n",
      "   macro avg       0.71      0.72      0.72      1407\n",
      "weighted avg       0.78      0.78      0.78      1407\n",
      "\n"
     ]
    }
   ],
   "source": [
    "import pandas as pd\n",
    "from sklearn.model_selection import train_test_split\n",
    "from sklearn.ensemble import RandomForestClassifier\n",
    "from sklearn.metrics import classification_report\n",
    "from imblearn.over_sampling import SMOTE\n",
    "from collections import Counter\n",
    "\n",
    "# 1. Drop the 'customerID' column\n",
    "churn_cleaned = churn.drop(columns=['customerID'])\n",
    "\n",
    "# 2. Convert the target 'Churn' into binary values\n",
    "churn_cleaned['Churn'] = churn_cleaned['Churn'].map({'Yes': 1, 'No': 0})\n",
    "\n",
    "# 3. Separate features and target\n",
    "X_raw = churn_cleaned.drop(columns=['Churn'])\n",
    "y = churn_cleaned['Churn']\n",
    "\n",
    "# 4. Encode categorical variables using one-hot encoding\n",
    "X = pd.get_dummies(X_raw, drop_first=True)\n",
    "\n",
    "# 5. Split the dataset into training and testing sets\n",
    "X_train, X_test, y_train, y_test = train_test_split(\n",
    "    X, y, test_size=0.2, stratify=y, random_state=42\n",
    ")\n",
    "\n",
    "# 6. Apply SMOTE to balance the training set\n",
    "smote = SMOTE(random_state=42)\n",
    "X_train_resampled, y_train_resampled = smote.fit_resample(X_train, y_train)\n",
    "\n",
    "# Check class distribution before and after SMOTE\n",
    "print(\"Before SMOTE:\", Counter(y_train))\n",
    "print(\"After SMOTE:\", Counter(y_train_resampled))\n",
    "\n",
    "# 7. Train a Random Forest model on the resampled data\n",
    "clf = RandomForestClassifier(random_state=42)\n",
    "clf.fit(X_train_resampled, y_train_resampled)\n",
    "\n",
    "# 8. Evaluate the model on the test set\n",
    "y_pred = clf.predict(X_test)\n",
    "print(classification_report(y_test, y_pred))\n"
   ]
  },
  {
   "cell_type": "markdown",
   "id": "0276e379-731c-4769-8dad-425e9efa7bef",
   "metadata": {},
   "source": [
    "After addressing class imbalance with SMOTE, the model shows notable improvement in detecting churners. The recall for the churn class (customers who actually left) increased from 0.48 to 0.59, meaning the model became better at identifying true churners. This is especially important in churn prediction tasks, where missing a potential churner (false negative) can be more costly than mistakenly flagging a loyal customer (false positive).\n",
    "\n",
    "However, precision remains moderate at 0.58, suggesting that some customers are wrongly predicted to churn. This trade-off is expected when prioritizing recall, and can be justified in a business context where proactive retention efforts (like discounts or support) are less costly than losing high-value customers.\n",
    "\n",
    "Overall, by balancing the dataset and optimizing for recall, the model becomes more useful for churn mitigation strategies — helping the business take preventive actions before customers actually leave."
   ]
  },
  {
   "cell_type": "code",
   "execution_count": 17,
   "id": "3a0ce301-d8a7-444a-8ca2-9c83e7a42399",
   "metadata": {},
   "outputs": [
    {
     "name": "stdout",
     "output_type": "stream",
     "text": [
      "[[872 161]\n",
      " [153 221]]\n"
     ]
    }
   ],
   "source": [
    "from sklearn.metrics import confusion_matrix, ConfusionMatrixDisplay\n",
    "import matplotlib.pyplot as plt\n",
    "\n",
    "# 1. Compute the confusion matrix\n",
    "cm = confusion_matrix(y_test, y_pred)\n",
    "\n",
    "# 2. Display the confusion matrix\n",
    "print(cm)\n"
   ]
  },
  {
   "cell_type": "markdown",
   "id": "f3d9afb9-937c-4686-b6f8-3a2deff8440c",
   "metadata": {},
   "source": [
    "This confusion matrix shows that the model correctly predicted 872 customers who did not churn (true negatives) and correctly identified 221 churners (true positives). However, it also misclassified 161 customers as churners when they actually stayed (false positives), and failed to identify 153 actual churners (false negatives).\n",
    "\n",
    "In summary, the model successfully identified 221 churners but missed 153 of them. It also predicted 161 false churns, which could lead to unnecessary retention actions such as offering discounts to customers who would have stayed anyway. These results reflect a tradeoff: the model achieves a higher recall (it catches more churners) at the cost of lower precision (more false alarms). If the business goal is to proactively retain at-risk customers, this tradeoff can be acceptable—assuming that the cost of taking action on false positives is lower than the cost of losing true churners."
   ]
  },
  {
   "cell_type": "code",
   "execution_count": 18,
   "id": "8db357f0-a1a2-4291-917d-b7d520d915a0",
   "metadata": {},
   "outputs": [
    {
     "data": {
      "image/png": "[encoded data removed]",
      "text/plain": [
       "<Figure size 640x480 with 1 Axes>"
      ]
     },
     "metadata": {},
     "output_type": "display_data"
    },
    {
     "data": {
      "text/plain": [
       "<Axes: >"
      ]
     },
     "execution_count": 18,
     "metadata": {},
     "output_type": "execute_result"
    },
    {
     "data": {
      "image/png": "[encoded data removed]",
      "text/plain": [
       "<Figure size 640x480 with 1 Axes>"
      ]
     },
     "metadata": {},
     "output_type": "display_data"
    }
   ],
   "source": [
    "import matplotlib.pyplot as plt\n",
    "from sklearn.metrics import RocCurveDisplay\n",
    "\n",
    "RocCurveDisplay.from_estimator(model, X_test, y_test)\n",
    "plt.show()\n",
    "\n",
    "# Importance des features\n",
    "importances = model.feature_importances_\n",
    "features = pd.Series(importances, index=X.columns).sort_values(ascending=False)\n",
    "features[:10].plot(kind='barh')\n"
   ]
  },
  {
   "cell_type": "code",
   "execution_count": null,
   "id": "bd9f67f1-d2e4-4c15-af3f-7548c5ca2898",
   "metadata": {},
   "outputs": [],
   "source": []
  }
 ],
 "metadata": {
  "kernelspec": {
   "display_name": "Python 3 (ipykernel)",
   "language": "python",
   "name": "python3"
  },
  "language_info": {
   "codemirror_mode": {
    "name": "ipython",
    "version": 3
   },
   "file_extension": ".py",
   "mimetype": "text/x-python",
   "name": "python",
   "nbconvert_exporter": "python",
   "pygments_lexer": "ipython3",
   "version": "3.12.10"
  }
 },
 "nbformat": 4,
 "nbformat_minor": 5
}
